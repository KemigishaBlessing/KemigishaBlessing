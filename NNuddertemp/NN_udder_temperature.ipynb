{
  "nbformat": 4,
  "nbformat_minor": 0,
  "metadata": {
    "colab": {
      "provenance": []
    },
    "kernelspec": {
      "name": "python3",
      "display_name": "Python 3"
    },
    "language_info": {
      "name": "python"
    },
    "accelerator": "GPU",
    "gpuClass": "standard"
  },
  "cells": [
    {
      "cell_type": "markdown",
      "source": [
        "NEURAL NETWORK FOR THE UDDER TEMPERATURE"
      ],
      "metadata": {
        "id": "M1EnCrp9qoSa"
      }
    },
    {
      "cell_type": "code",
      "execution_count": 1,
      "metadata": {
        "id": "DEg4gj_ZoxEK"
      },
      "outputs": [],
      "source": [
        "#importing dependencies\n",
        "import sys\n",
        "import pandas as pd\n",
        "import numpy as np\n",
        "import sklearn\n",
        "import matplotlib.pyplot as plt\n",
        "\n",
        "import keras\n",
        "from sklearn.model_selection import train_test_split"
      ]
    },
    {
      "cell_type": "markdown",
      "source": [
        "Data preprocessing"
      ],
      "metadata": {
        "id": "IxI9JM5WrYg-"
      }
    },
    {
      "cell_type": "code",
      "source": [
        "#Data preprocessing\n",
        "udder_temp = pd.read_csv('/content/uddertemperature.csv')\n",
        "udder_temp.head()"
      ],
      "metadata": {
        "colab": {
          "base_uri": "https://localhost:8080/",
          "height": 206
        },
        "id": "3HhSu3rWo-C4",
        "outputId": "04ff5dda-36a6-41cf-ed49-8537b1e8cb31"
      },
      "execution_count": 2,
      "outputs": [
        {
          "output_type": "execute_result",
          "data": {
            "text/plain": [
              "   UdderSurfaceTemp   Status\n",
              "0             28.94  Healthy\n",
              "1             31.39  Healthy\n",
              "2             30.41  Healthy\n",
              "3             31.75  Healthy\n",
              "4             33.09  Healthy"
            ],
            "text/html": [
              "\n",
              "  <div id=\"df-f674cd95-9392-4738-9c10-6eb17b0c379f\">\n",
              "    <div class=\"colab-df-container\">\n",
              "      <div>\n",
              "<style scoped>\n",
              "    .dataframe tbody tr th:only-of-type {\n",
              "        vertical-align: middle;\n",
              "    }\n",
              "\n",
              "    .dataframe tbody tr th {\n",
              "        vertical-align: top;\n",
              "    }\n",
              "\n",
              "    .dataframe thead th {\n",
              "        text-align: right;\n",
              "    }\n",
              "</style>\n",
              "<table border=\"1\" class=\"dataframe\">\n",
              "  <thead>\n",
              "    <tr style=\"text-align: right;\">\n",
              "      <th></th>\n",
              "      <th>UdderSurfaceTemp</th>\n",
              "      <th>Status</th>\n",
              "    </tr>\n",
              "  </thead>\n",
              "  <tbody>\n",
              "    <tr>\n",
              "      <th>0</th>\n",
              "      <td>28.94</td>\n",
              "      <td>Healthy</td>\n",
              "    </tr>\n",
              "    <tr>\n",
              "      <th>1</th>\n",
              "      <td>31.39</td>\n",
              "      <td>Healthy</td>\n",
              "    </tr>\n",
              "    <tr>\n",
              "      <th>2</th>\n",
              "      <td>30.41</td>\n",
              "      <td>Healthy</td>\n",
              "    </tr>\n",
              "    <tr>\n",
              "      <th>3</th>\n",
              "      <td>31.75</td>\n",
              "      <td>Healthy</td>\n",
              "    </tr>\n",
              "    <tr>\n",
              "      <th>4</th>\n",
              "      <td>33.09</td>\n",
              "      <td>Healthy</td>\n",
              "    </tr>\n",
              "  </tbody>\n",
              "</table>\n",
              "</div>\n",
              "      <button class=\"colab-df-convert\" onclick=\"convertToInteractive('df-f674cd95-9392-4738-9c10-6eb17b0c379f')\"\n",
              "              title=\"Convert this dataframe to an interactive table.\"\n",
              "              style=\"display:none;\">\n",
              "        \n",
              "  <svg xmlns=\"http://www.w3.org/2000/svg\" height=\"24px\"viewBox=\"0 0 24 24\"\n",
              "       width=\"24px\">\n",
              "    <path d=\"M0 0h24v24H0V0z\" fill=\"none\"/>\n",
              "    <path d=\"M18.56 5.44l.94 2.06.94-2.06 2.06-.94-2.06-.94-.94-2.06-.94 2.06-2.06.94zm-11 1L8.5 8.5l.94-2.06 2.06-.94-2.06-.94L8.5 2.5l-.94 2.06-2.06.94zm10 10l.94 2.06.94-2.06 2.06-.94-2.06-.94-.94-2.06-.94 2.06-2.06.94z\"/><path d=\"M17.41 7.96l-1.37-1.37c-.4-.4-.92-.59-1.43-.59-.52 0-1.04.2-1.43.59L10.3 9.45l-7.72 7.72c-.78.78-.78 2.05 0 2.83L4 21.41c.39.39.9.59 1.41.59.51 0 1.02-.2 1.41-.59l7.78-7.78 2.81-2.81c.8-.78.8-2.07 0-2.86zM5.41 20L4 18.59l7.72-7.72 1.47 1.35L5.41 20z\"/>\n",
              "  </svg>\n",
              "      </button>\n",
              "      \n",
              "  <style>\n",
              "    .colab-df-container {\n",
              "      display:flex;\n",
              "      flex-wrap:wrap;\n",
              "      gap: 12px;\n",
              "    }\n",
              "\n",
              "    .colab-df-convert {\n",
              "      background-color: #E8F0FE;\n",
              "      border: none;\n",
              "      border-radius: 50%;\n",
              "      cursor: pointer;\n",
              "      display: none;\n",
              "      fill: #1967D2;\n",
              "      height: 32px;\n",
              "      padding: 0 0 0 0;\n",
              "      width: 32px;\n",
              "    }\n",
              "\n",
              "    .colab-df-convert:hover {\n",
              "      background-color: #E2EBFA;\n",
              "      box-shadow: 0px 1px 2px rgba(60, 64, 67, 0.3), 0px 1px 3px 1px rgba(60, 64, 67, 0.15);\n",
              "      fill: #174EA6;\n",
              "    }\n",
              "\n",
              "    [theme=dark] .colab-df-convert {\n",
              "      background-color: #3B4455;\n",
              "      fill: #D2E3FC;\n",
              "    }\n",
              "\n",
              "    [theme=dark] .colab-df-convert:hover {\n",
              "      background-color: #434B5C;\n",
              "      box-shadow: 0px 1px 3px 1px rgba(0, 0, 0, 0.15);\n",
              "      filter: drop-shadow(0px 1px 2px rgba(0, 0, 0, 0.3));\n",
              "      fill: #FFFFFF;\n",
              "    }\n",
              "  </style>\n",
              "\n",
              "      <script>\n",
              "        const buttonEl =\n",
              "          document.querySelector('#df-f674cd95-9392-4738-9c10-6eb17b0c379f button.colab-df-convert');\n",
              "        buttonEl.style.display =\n",
              "          google.colab.kernel.accessAllowed ? 'block' : 'none';\n",
              "\n",
              "        async function convertToInteractive(key) {\n",
              "          const element = document.querySelector('#df-f674cd95-9392-4738-9c10-6eb17b0c379f');\n",
              "          const dataTable =\n",
              "            await google.colab.kernel.invokeFunction('convertToInteractive',\n",
              "                                                     [key], {});\n",
              "          if (!dataTable) return;\n",
              "\n",
              "          const docLinkHtml = 'Like what you see? Visit the ' +\n",
              "            '<a target=\"_blank\" href=https://colab.research.google.com/notebooks/data_table.ipynb>data table notebook</a>'\n",
              "            + ' to learn more about interactive tables.';\n",
              "          element.innerHTML = '';\n",
              "          dataTable['output_type'] = 'display_data';\n",
              "          await google.colab.output.renderOutput(dataTable, element);\n",
              "          const docLink = document.createElement('div');\n",
              "          docLink.innerHTML = docLinkHtml;\n",
              "          element.appendChild(docLink);\n",
              "        }\n",
              "      </script>\n",
              "    </div>\n",
              "  </div>\n",
              "  "
            ]
          },
          "metadata": {},
          "execution_count": 2
        }
      ]
    },
    {
      "cell_type": "code",
      "source": [
        "# Renaming some of the columns \n",
        "udder_temp = udder_temp.rename(columns={'Status':'target'})"
      ],
      "metadata": {
        "id": "8Au8M3odo92T"
      },
      "execution_count": 3,
      "outputs": []
    },
    {
      "cell_type": "code",
      "source": [
        "#data cleaning\n",
        "#removing null values\n",
        "udder_temp = udder_temp.dropna()\n",
        "udder_temp.isnull().sum()"
      ],
      "metadata": {
        "colab": {
          "base_uri": "https://localhost:8080/"
        },
        "id": "qw8GVg5Fo9y6",
        "outputId": "60350ba4-1a03-4b79-b03b-d4cff92f60bb"
      },
      "execution_count": 4,
      "outputs": [
        {
          "output_type": "execute_result",
          "data": {
            "text/plain": [
              "UdderSurfaceTemp    0\n",
              "target              0\n",
              "dtype: int64"
            ]
          },
          "metadata": {},
          "execution_count": 4
        }
      ]
    },
    {
      "cell_type": "code",
      "source": [
        "#check for missing values\n",
        "missing_values = udder_temp.isnull().sum().sort_values(ascending = False)\n",
        "missing_values = missing_values[missing_values > 0]/udder_temp.shape[0] # normalize\n",
        "print(f'{missing_values *100} %')"
      ],
      "metadata": {
        "colab": {
          "base_uri": "https://localhost:8080/"
        },
        "id": "cvqCPYPho9wB",
        "outputId": "80f24ff0-d34f-4876-8eb6-330ee8d1f3bd"
      },
      "execution_count": 5,
      "outputs": [
        {
          "output_type": "stream",
          "name": "stdout",
          "text": [
            "Series([], dtype: float64) %\n"
          ]
        }
      ]
    },
    {
      "cell_type": "code",
      "source": [
        "#replace the strings in target column with corresponding numbers\n",
        "udder_temp =udder_temp.replace({'clinical': 2, 'subclinical': 1, 'Healthy': 0})\n",
        "udder_temp.head()"
      ],
      "metadata": {
        "colab": {
          "base_uri": "https://localhost:8080/",
          "height": 206
        },
        "id": "gQFv0w5oo9sp",
        "outputId": "a099c4f9-5f4d-4c54-d273-a52066c49df1"
      },
      "execution_count": 6,
      "outputs": [
        {
          "output_type": "execute_result",
          "data": {
            "text/plain": [
              "   UdderSurfaceTemp  target\n",
              "0             28.94       0\n",
              "1             31.39       0\n",
              "2             30.41       0\n",
              "3             31.75       0\n",
              "4             33.09       0"
            ],
            "text/html": [
              "\n",
              "  <div id=\"df-47c48aba-7d66-4e03-9217-23ecfc951873\">\n",
              "    <div class=\"colab-df-container\">\n",
              "      <div>\n",
              "<style scoped>\n",
              "    .dataframe tbody tr th:only-of-type {\n",
              "        vertical-align: middle;\n",
              "    }\n",
              "\n",
              "    .dataframe tbody tr th {\n",
              "        vertical-align: top;\n",
              "    }\n",
              "\n",
              "    .dataframe thead th {\n",
              "        text-align: right;\n",
              "    }\n",
              "</style>\n",
              "<table border=\"1\" class=\"dataframe\">\n",
              "  <thead>\n",
              "    <tr style=\"text-align: right;\">\n",
              "      <th></th>\n",
              "      <th>UdderSurfaceTemp</th>\n",
              "      <th>target</th>\n",
              "    </tr>\n",
              "  </thead>\n",
              "  <tbody>\n",
              "    <tr>\n",
              "      <th>0</th>\n",
              "      <td>28.94</td>\n",
              "      <td>0</td>\n",
              "    </tr>\n",
              "    <tr>\n",
              "      <th>1</th>\n",
              "      <td>31.39</td>\n",
              "      <td>0</td>\n",
              "    </tr>\n",
              "    <tr>\n",
              "      <th>2</th>\n",
              "      <td>30.41</td>\n",
              "      <td>0</td>\n",
              "    </tr>\n",
              "    <tr>\n",
              "      <th>3</th>\n",
              "      <td>31.75</td>\n",
              "      <td>0</td>\n",
              "    </tr>\n",
              "    <tr>\n",
              "      <th>4</th>\n",
              "      <td>33.09</td>\n",
              "      <td>0</td>\n",
              "    </tr>\n",
              "  </tbody>\n",
              "</table>\n",
              "</div>\n",
              "      <button class=\"colab-df-convert\" onclick=\"convertToInteractive('df-47c48aba-7d66-4e03-9217-23ecfc951873')\"\n",
              "              title=\"Convert this dataframe to an interactive table.\"\n",
              "              style=\"display:none;\">\n",
              "        \n",
              "  <svg xmlns=\"http://www.w3.org/2000/svg\" height=\"24px\"viewBox=\"0 0 24 24\"\n",
              "       width=\"24px\">\n",
              "    <path d=\"M0 0h24v24H0V0z\" fill=\"none\"/>\n",
              "    <path d=\"M18.56 5.44l.94 2.06.94-2.06 2.06-.94-2.06-.94-.94-2.06-.94 2.06-2.06.94zm-11 1L8.5 8.5l.94-2.06 2.06-.94-2.06-.94L8.5 2.5l-.94 2.06-2.06.94zm10 10l.94 2.06.94-2.06 2.06-.94-2.06-.94-.94-2.06-.94 2.06-2.06.94z\"/><path d=\"M17.41 7.96l-1.37-1.37c-.4-.4-.92-.59-1.43-.59-.52 0-1.04.2-1.43.59L10.3 9.45l-7.72 7.72c-.78.78-.78 2.05 0 2.83L4 21.41c.39.39.9.59 1.41.59.51 0 1.02-.2 1.41-.59l7.78-7.78 2.81-2.81c.8-.78.8-2.07 0-2.86zM5.41 20L4 18.59l7.72-7.72 1.47 1.35L5.41 20z\"/>\n",
              "  </svg>\n",
              "      </button>\n",
              "      \n",
              "  <style>\n",
              "    .colab-df-container {\n",
              "      display:flex;\n",
              "      flex-wrap:wrap;\n",
              "      gap: 12px;\n",
              "    }\n",
              "\n",
              "    .colab-df-convert {\n",
              "      background-color: #E8F0FE;\n",
              "      border: none;\n",
              "      border-radius: 50%;\n",
              "      cursor: pointer;\n",
              "      display: none;\n",
              "      fill: #1967D2;\n",
              "      height: 32px;\n",
              "      padding: 0 0 0 0;\n",
              "      width: 32px;\n",
              "    }\n",
              "\n",
              "    .colab-df-convert:hover {\n",
              "      background-color: #E2EBFA;\n",
              "      box-shadow: 0px 1px 2px rgba(60, 64, 67, 0.3), 0px 1px 3px 1px rgba(60, 64, 67, 0.15);\n",
              "      fill: #174EA6;\n",
              "    }\n",
              "\n",
              "    [theme=dark] .colab-df-convert {\n",
              "      background-color: #3B4455;\n",
              "      fill: #D2E3FC;\n",
              "    }\n",
              "\n",
              "    [theme=dark] .colab-df-convert:hover {\n",
              "      background-color: #434B5C;\n",
              "      box-shadow: 0px 1px 3px 1px rgba(0, 0, 0, 0.15);\n",
              "      filter: drop-shadow(0px 1px 2px rgba(0, 0, 0, 0.3));\n",
              "      fill: #FFFFFF;\n",
              "    }\n",
              "  </style>\n",
              "\n",
              "      <script>\n",
              "        const buttonEl =\n",
              "          document.querySelector('#df-47c48aba-7d66-4e03-9217-23ecfc951873 button.colab-df-convert');\n",
              "        buttonEl.style.display =\n",
              "          google.colab.kernel.accessAllowed ? 'block' : 'none';\n",
              "\n",
              "        async function convertToInteractive(key) {\n",
              "          const element = document.querySelector('#df-47c48aba-7d66-4e03-9217-23ecfc951873');\n",
              "          const dataTable =\n",
              "            await google.colab.kernel.invokeFunction('convertToInteractive',\n",
              "                                                     [key], {});\n",
              "          if (!dataTable) return;\n",
              "\n",
              "          const docLinkHtml = 'Like what you see? Visit the ' +\n",
              "            '<a target=\"_blank\" href=https://colab.research.google.com/notebooks/data_table.ipynb>data table notebook</a>'\n",
              "            + ' to learn more about interactive tables.';\n",
              "          element.innerHTML = '';\n",
              "          dataTable['output_type'] = 'display_data';\n",
              "          await google.colab.output.renderOutput(dataTable, element);\n",
              "          const docLink = document.createElement('div');\n",
              "          docLink.innerHTML = docLinkHtml;\n",
              "          element.appendChild(docLink);\n",
              "        }\n",
              "      </script>\n",
              "    </div>\n",
              "  </div>\n",
              "  "
            ]
          },
          "metadata": {},
          "execution_count": 6
        }
      ]
    },
    {
      "cell_type": "code",
      "source": [
        "# checking the distribution of the target variable\n",
        "udder_temp['target'].value_counts()"
      ],
      "metadata": {
        "colab": {
          "base_uri": "https://localhost:8080/"
        },
        "id": "9RmCUsfRo9pj",
        "outputId": "d1537cbb-a6ba-455f-cb51-d0c29c3bfd6f"
      },
      "execution_count": 7,
      "outputs": [
        {
          "output_type": "execute_result",
          "data": {
            "text/plain": [
              "0    1079\n",
              "1    1025\n",
              "2    1020\n",
              "Name: target, dtype: int64"
            ]
          },
          "metadata": {},
          "execution_count": 7
        }
      ]
    },
    {
      "cell_type": "markdown",
      "source": [
        "'clinical': 2, 'subclinical': 1, 'Healthy': 0"
      ],
      "metadata": {
        "id": "9XhdrT7otEji"
      }
    },
    {
      "cell_type": "markdown",
      "source": [
        "Splitting the target and features"
      ],
      "metadata": {
        "id": "_0fHNb7ttH6r"
      }
    },
    {
      "cell_type": "code",
      "source": [
        "X = udder_temp.drop(columns='target',axis = 1)\n",
        "y = udder_temp['target']"
      ],
      "metadata": {
        "id": "5-2YRV4do9lz"
      },
      "execution_count": 8,
      "outputs": []
    },
    {
      "cell_type": "markdown",
      "source": [
        "spliting data into testing and training data"
      ],
      "metadata": {
        "id": "2dD8ppOnuAJG"
      }
    },
    {
      "cell_type": "code",
      "source": [
        "X_train, X_test, y_train, y_test = train_test_split(X, y, test_size = 0.2,random_state=2)"
      ],
      "metadata": {
        "id": "B3fe1IRfo9iL"
      },
      "execution_count": 9,
      "outputs": []
    },
    {
      "cell_type": "code",
      "source": [
        "print(X.shape,X_train.shape,X_test.shape)"
      ],
      "metadata": {
        "colab": {
          "base_uri": "https://localhost:8080/"
        },
        "id": "kMD9giwRo9fB",
        "outputId": "8a44b203-fbec-4d5a-8f8a-dcc247d8c827"
      },
      "execution_count": 10,
      "outputs": [
        {
          "output_type": "stream",
          "name": "stdout",
          "text": [
            "(3124, 1) (2499, 1) (625, 1)\n"
          ]
        }
      ]
    },
    {
      "cell_type": "code",
      "source": [
        "#Feature scaling\n",
        "from sklearn.preprocessing import StandardScaler\n",
        "scaler = StandardScaler()\n",
        "X_train_std = scaler.fit_transform(X_train)\n",
        "X_test_std = scaler.fit_transform(X_test)"
      ],
      "metadata": {
        "id": "3d3PxFJ61QAx"
      },
      "execution_count": 11,
      "outputs": []
    },
    {
      "cell_type": "code",
      "source": [
        "print(X_train_std)"
      ],
      "metadata": {
        "colab": {
          "base_uri": "https://localhost:8080/"
        },
        "id": "1Pa9Sz_A1P6D",
        "outputId": "0999b8e2-260d-420c-a42a-fa3d6d4c5d4a"
      },
      "execution_count": 12,
      "outputs": [
        {
          "output_type": "stream",
          "name": "stdout",
          "text": [
            "[[ 1.1787516 ]\n",
            " [-0.19236157]\n",
            " [-0.07898787]\n",
            " ...\n",
            " [-0.23841964]\n",
            " [ 1.14686524]\n",
            " [ 1.13269353]]\n"
          ]
        }
      ]
    },
    {
      "cell_type": "code",
      "source": [],
      "metadata": {
        "id": "L8QSC2Z41Pt5"
      },
      "execution_count": 12,
      "outputs": []
    },
    {
      "cell_type": "markdown",
      "source": [
        "BUILDING A NUERAL NETWORK"
      ],
      "metadata": {
        "id": "scEJwQRgvMyq"
      }
    },
    {
      "cell_type": "code",
      "source": [
        "#importing tensorflow and keras\n",
        "import tensorflow as tf\n",
        "tf.random.set_seed (3)\n",
        "from tensorflow import keras\n"
      ],
      "metadata": {
        "id": "FhgE8s9Zo9bK"
      },
      "execution_count": 13,
      "outputs": []
    },
    {
      "cell_type": "code",
      "source": [
        "from tensorflow.python.ops.math_ops import sigmoid\n",
        "# setting up the layers of the nueral network\n",
        "model = keras.Sequential([\n",
        "    keras.layers.Flatten(input_shape=(1,)),\n",
        "    keras.layers.Dense(20,activation = 'relu'),\n",
        "    keras.layers.Dense(30,activation = 'relu'),\n",
        "    keras.layers.Dense(3, activation = 'sigmoid')\n",
        "])"
      ],
      "metadata": {
        "id": "kOVaKMqHo9VL"
      },
      "execution_count": 14,
      "outputs": []
    },
    {
      "cell_type": "code",
      "source": [
        "#compiling the nueral network\n",
        "model.compile(loss='sparse_categorical_crossentropy', \n",
        "               optimizer= 'adam', \n",
        "               metrics=['accuracy']\n",
        "               )"
      ],
      "metadata": {
        "id": "J05H60XTxnGf"
      },
      "execution_count": 15,
      "outputs": []
    },
    {
      "cell_type": "markdown",
      "source": [
        "Training the Nueral Network"
      ],
      "metadata": {
        "id": "kt82-MQCz1yQ"
      }
    },
    {
      "cell_type": "code",
      "source": [
        "history = model.fit(X_train_std,y_train, validation_split=0.1, epochs = 100)"
      ],
      "metadata": {
        "colab": {
          "base_uri": "https://localhost:8080/"
        },
        "id": "njHz4oJ-xnDU",
        "outputId": "f5188ed3-85e3-4274-869f-39790b9ec719"
      },
      "execution_count": 16,
      "outputs": [
        {
          "output_type": "stream",
          "name": "stdout",
          "text": [
            "Epoch 1/100\n",
            "71/71 [==============================] - 3s 7ms/step - loss: 0.8066 - accuracy: 0.7332 - val_loss: 0.6357 - val_accuracy: 0.8120\n",
            "Epoch 2/100\n",
            "71/71 [==============================] - 0s 3ms/step - loss: 0.4582 - accuracy: 0.9013 - val_loss: 0.3074 - val_accuracy: 0.9720\n",
            "Epoch 3/100\n",
            "71/71 [==============================] - 0s 3ms/step - loss: 0.2147 - accuracy: 0.9809 - val_loss: 0.1478 - val_accuracy: 0.9680\n",
            "Epoch 4/100\n",
            "71/71 [==============================] - 0s 3ms/step - loss: 0.1149 - accuracy: 0.9787 - val_loss: 0.0979 - val_accuracy: 0.9680\n",
            "Epoch 5/100\n",
            "71/71 [==============================] - 0s 3ms/step - loss: 0.0805 - accuracy: 0.9818 - val_loss: 0.0784 - val_accuracy: 0.9720\n",
            "Epoch 6/100\n",
            "71/71 [==============================] - 0s 3ms/step - loss: 0.0655 - accuracy: 0.9831 - val_loss: 0.0690 - val_accuracy: 0.9720\n",
            "Epoch 7/100\n",
            "71/71 [==============================] - 0s 3ms/step - loss: 0.0560 - accuracy: 0.9844 - val_loss: 0.0620 - val_accuracy: 0.9800\n",
            "Epoch 8/100\n",
            "71/71 [==============================] - 0s 3ms/step - loss: 0.0500 - accuracy: 0.9840 - val_loss: 0.0581 - val_accuracy: 0.9800\n",
            "Epoch 9/100\n",
            "71/71 [==============================] - 0s 3ms/step - loss: 0.0465 - accuracy: 0.9876 - val_loss: 0.0563 - val_accuracy: 0.9760\n",
            "Epoch 10/100\n",
            "71/71 [==============================] - 0s 3ms/step - loss: 0.0438 - accuracy: 0.9853 - val_loss: 0.0552 - val_accuracy: 0.9760\n",
            "Epoch 11/100\n",
            "71/71 [==============================] - 0s 3ms/step - loss: 0.0424 - accuracy: 0.9862 - val_loss: 0.0543 - val_accuracy: 0.9760\n",
            "Epoch 12/100\n",
            "71/71 [==============================] - 0s 3ms/step - loss: 0.0403 - accuracy: 0.9876 - val_loss: 0.0554 - val_accuracy: 0.9760\n",
            "Epoch 13/100\n",
            "71/71 [==============================] - 0s 3ms/step - loss: 0.0399 - accuracy: 0.9849 - val_loss: 0.0506 - val_accuracy: 0.9680\n",
            "Epoch 14/100\n",
            "71/71 [==============================] - 0s 3ms/step - loss: 0.0397 - accuracy: 0.9880 - val_loss: 0.0519 - val_accuracy: 0.9800\n",
            "Epoch 15/100\n",
            "71/71 [==============================] - 0s 3ms/step - loss: 0.0377 - accuracy: 0.9880 - val_loss: 0.0528 - val_accuracy: 0.9800\n",
            "Epoch 16/100\n",
            "71/71 [==============================] - 0s 3ms/step - loss: 0.0380 - accuracy: 0.9849 - val_loss: 0.0566 - val_accuracy: 0.9760\n",
            "Epoch 17/100\n",
            "71/71 [==============================] - 0s 3ms/step - loss: 0.0375 - accuracy: 0.9867 - val_loss: 0.0489 - val_accuracy: 0.9680\n",
            "Epoch 18/100\n",
            "71/71 [==============================] - 0s 3ms/step - loss: 0.0362 - accuracy: 0.9880 - val_loss: 0.0504 - val_accuracy: 0.9800\n",
            "Epoch 19/100\n",
            "71/71 [==============================] - 0s 3ms/step - loss: 0.0361 - accuracy: 0.9871 - val_loss: 0.0514 - val_accuracy: 0.9800\n",
            "Epoch 20/100\n",
            "71/71 [==============================] - 0s 3ms/step - loss: 0.0360 - accuracy: 0.9889 - val_loss: 0.0505 - val_accuracy: 0.9800\n",
            "Epoch 21/100\n",
            "71/71 [==============================] - 0s 3ms/step - loss: 0.0358 - accuracy: 0.9871 - val_loss: 0.0506 - val_accuracy: 0.9800\n",
            "Epoch 22/100\n",
            "71/71 [==============================] - 0s 3ms/step - loss: 0.0354 - accuracy: 0.9862 - val_loss: 0.0534 - val_accuracy: 0.9800\n",
            "Epoch 23/100\n",
            "71/71 [==============================] - 0s 3ms/step - loss: 0.0370 - accuracy: 0.9853 - val_loss: 0.0483 - val_accuracy: 0.9680\n",
            "Epoch 24/100\n",
            "71/71 [==============================] - 0s 3ms/step - loss: 0.0361 - accuracy: 0.9871 - val_loss: 0.0509 - val_accuracy: 0.9680\n",
            "Epoch 25/100\n",
            "71/71 [==============================] - 0s 3ms/step - loss: 0.0350 - accuracy: 0.9871 - val_loss: 0.0483 - val_accuracy: 0.9680\n",
            "Epoch 26/100\n",
            "71/71 [==============================] - 0s 3ms/step - loss: 0.0350 - accuracy: 0.9862 - val_loss: 0.0555 - val_accuracy: 0.9800\n",
            "Epoch 27/100\n",
            "71/71 [==============================] - 0s 3ms/step - loss: 0.0347 - accuracy: 0.9880 - val_loss: 0.0482 - val_accuracy: 0.9680\n",
            "Epoch 28/100\n",
            "71/71 [==============================] - 0s 3ms/step - loss: 0.0345 - accuracy: 0.9884 - val_loss: 0.0487 - val_accuracy: 0.9760\n",
            "Epoch 29/100\n",
            "71/71 [==============================] - 0s 3ms/step - loss: 0.0350 - accuracy: 0.9880 - val_loss: 0.0491 - val_accuracy: 0.9760\n",
            "Epoch 30/100\n",
            "71/71 [==============================] - 0s 3ms/step - loss: 0.0342 - accuracy: 0.9876 - val_loss: 0.0504 - val_accuracy: 0.9800\n",
            "Epoch 31/100\n",
            "71/71 [==============================] - 0s 3ms/step - loss: 0.0347 - accuracy: 0.9871 - val_loss: 0.0536 - val_accuracy: 0.9800\n",
            "Epoch 32/100\n",
            "71/71 [==============================] - 0s 3ms/step - loss: 0.0341 - accuracy: 0.9876 - val_loss: 0.0546 - val_accuracy: 0.9800\n",
            "Epoch 33/100\n",
            "71/71 [==============================] - 0s 3ms/step - loss: 0.0340 - accuracy: 0.9862 - val_loss: 0.0489 - val_accuracy: 0.9680\n",
            "Epoch 34/100\n",
            "71/71 [==============================] - 0s 3ms/step - loss: 0.0351 - accuracy: 0.9867 - val_loss: 0.0498 - val_accuracy: 0.9800\n",
            "Epoch 35/100\n",
            "71/71 [==============================] - 0s 3ms/step - loss: 0.0351 - accuracy: 0.9862 - val_loss: 0.0488 - val_accuracy: 0.9680\n",
            "Epoch 36/100\n",
            "71/71 [==============================] - 0s 3ms/step - loss: 0.0336 - accuracy: 0.9862 - val_loss: 0.0537 - val_accuracy: 0.9800\n",
            "Epoch 37/100\n",
            "71/71 [==============================] - 0s 3ms/step - loss: 0.0346 - accuracy: 0.9876 - val_loss: 0.0485 - val_accuracy: 0.9680\n",
            "Epoch 38/100\n",
            "71/71 [==============================] - 0s 3ms/step - loss: 0.0345 - accuracy: 0.9876 - val_loss: 0.0485 - val_accuracy: 0.9680\n",
            "Epoch 39/100\n",
            "71/71 [==============================] - 0s 3ms/step - loss: 0.0342 - accuracy: 0.9867 - val_loss: 0.0486 - val_accuracy: 0.9680\n",
            "Epoch 40/100\n",
            "71/71 [==============================] - 0s 3ms/step - loss: 0.0340 - accuracy: 0.9880 - val_loss: 0.0487 - val_accuracy: 0.9680\n",
            "Epoch 41/100\n",
            "71/71 [==============================] - 0s 3ms/step - loss: 0.0344 - accuracy: 0.9867 - val_loss: 0.0485 - val_accuracy: 0.9680\n",
            "Epoch 42/100\n",
            "71/71 [==============================] - 0s 3ms/step - loss: 0.0339 - accuracy: 0.9876 - val_loss: 0.0486 - val_accuracy: 0.9680\n",
            "Epoch 43/100\n",
            "71/71 [==============================] - 0s 3ms/step - loss: 0.0354 - accuracy: 0.9849 - val_loss: 0.0532 - val_accuracy: 0.9800\n",
            "Epoch 44/100\n",
            "71/71 [==============================] - 0s 3ms/step - loss: 0.0343 - accuracy: 0.9876 - val_loss: 0.0487 - val_accuracy: 0.9680\n",
            "Epoch 45/100\n",
            "71/71 [==============================] - 0s 3ms/step - loss: 0.0337 - accuracy: 0.9871 - val_loss: 0.0528 - val_accuracy: 0.9800\n",
            "Epoch 46/100\n",
            "71/71 [==============================] - 0s 3ms/step - loss: 0.0353 - accuracy: 0.9884 - val_loss: 0.0494 - val_accuracy: 0.9760\n",
            "Epoch 47/100\n",
            "71/71 [==============================] - 0s 3ms/step - loss: 0.0331 - accuracy: 0.9853 - val_loss: 0.0544 - val_accuracy: 0.9800\n",
            "Epoch 48/100\n",
            "71/71 [==============================] - 0s 6ms/step - loss: 0.0346 - accuracy: 0.9884 - val_loss: 0.0506 - val_accuracy: 0.9800\n",
            "Epoch 49/100\n",
            "71/71 [==============================] - 0s 5ms/step - loss: 0.0338 - accuracy: 0.9867 - val_loss: 0.0505 - val_accuracy: 0.9800\n",
            "Epoch 50/100\n",
            "71/71 [==============================] - 0s 3ms/step - loss: 0.0337 - accuracy: 0.9867 - val_loss: 0.0493 - val_accuracy: 0.9680\n",
            "Epoch 51/100\n",
            "71/71 [==============================] - 0s 3ms/step - loss: 0.0341 - accuracy: 0.9862 - val_loss: 0.0497 - val_accuracy: 0.9760\n",
            "Epoch 52/100\n",
            "71/71 [==============================] - 1s 7ms/step - loss: 0.0343 - accuracy: 0.9880 - val_loss: 0.0489 - val_accuracy: 0.9680\n",
            "Epoch 53/100\n",
            "71/71 [==============================] - 0s 3ms/step - loss: 0.0348 - accuracy: 0.9853 - val_loss: 0.0499 - val_accuracy: 0.9760\n",
            "Epoch 54/100\n",
            "71/71 [==============================] - 0s 3ms/step - loss: 0.0341 - accuracy: 0.9876 - val_loss: 0.0512 - val_accuracy: 0.9800\n",
            "Epoch 55/100\n",
            "71/71 [==============================] - 0s 4ms/step - loss: 0.0346 - accuracy: 0.9871 - val_loss: 0.0487 - val_accuracy: 0.9680\n",
            "Epoch 56/100\n",
            "71/71 [==============================] - 0s 6ms/step - loss: 0.0340 - accuracy: 0.9871 - val_loss: 0.0506 - val_accuracy: 0.9800\n",
            "Epoch 57/100\n",
            "71/71 [==============================] - 0s 3ms/step - loss: 0.0345 - accuracy: 0.9876 - val_loss: 0.0488 - val_accuracy: 0.9680\n",
            "Epoch 58/100\n",
            "71/71 [==============================] - 0s 3ms/step - loss: 0.0341 - accuracy: 0.9871 - val_loss: 0.0487 - val_accuracy: 0.9680\n",
            "Epoch 59/100\n",
            "71/71 [==============================] - 0s 3ms/step - loss: 0.0340 - accuracy: 0.9858 - val_loss: 0.0512 - val_accuracy: 0.9800\n",
            "Epoch 60/100\n",
            "71/71 [==============================] - 0s 3ms/step - loss: 0.0339 - accuracy: 0.9867 - val_loss: 0.0500 - val_accuracy: 0.9760\n",
            "Epoch 61/100\n",
            "71/71 [==============================] - 0s 3ms/step - loss: 0.0335 - accuracy: 0.9884 - val_loss: 0.0491 - val_accuracy: 0.9680\n",
            "Epoch 62/100\n",
            "71/71 [==============================] - 0s 3ms/step - loss: 0.0341 - accuracy: 0.9858 - val_loss: 0.0519 - val_accuracy: 0.9800\n",
            "Epoch 63/100\n",
            "71/71 [==============================] - 0s 3ms/step - loss: 0.0339 - accuracy: 0.9871 - val_loss: 0.0489 - val_accuracy: 0.9680\n",
            "Epoch 64/100\n",
            "71/71 [==============================] - 0s 3ms/step - loss: 0.0342 - accuracy: 0.9862 - val_loss: 0.0501 - val_accuracy: 0.9760\n",
            "Epoch 65/100\n",
            "71/71 [==============================] - 0s 3ms/step - loss: 0.0352 - accuracy: 0.9867 - val_loss: 0.0488 - val_accuracy: 0.9720\n",
            "Epoch 66/100\n",
            "71/71 [==============================] - 0s 3ms/step - loss: 0.0341 - accuracy: 0.9849 - val_loss: 0.0491 - val_accuracy: 0.9680\n",
            "Epoch 67/100\n",
            "71/71 [==============================] - 0s 3ms/step - loss: 0.0350 - accuracy: 0.9858 - val_loss: 0.0503 - val_accuracy: 0.9760\n",
            "Epoch 68/100\n",
            "71/71 [==============================] - 0s 3ms/step - loss: 0.0346 - accuracy: 0.9871 - val_loss: 0.0488 - val_accuracy: 0.9720\n",
            "Epoch 69/100\n",
            "71/71 [==============================] - 0s 3ms/step - loss: 0.0337 - accuracy: 0.9862 - val_loss: 0.0505 - val_accuracy: 0.9760\n",
            "Epoch 70/100\n",
            "71/71 [==============================] - 0s 3ms/step - loss: 0.0346 - accuracy: 0.9853 - val_loss: 0.0550 - val_accuracy: 0.9800\n",
            "Epoch 71/100\n",
            "71/71 [==============================] - 0s 3ms/step - loss: 0.0338 - accuracy: 0.9867 - val_loss: 0.0489 - val_accuracy: 0.9680\n",
            "Epoch 72/100\n",
            "71/71 [==============================] - 0s 3ms/step - loss: 0.0343 - accuracy: 0.9876 - val_loss: 0.0498 - val_accuracy: 0.9760\n",
            "Epoch 73/100\n",
            "71/71 [==============================] - 0s 3ms/step - loss: 0.0337 - accuracy: 0.9867 - val_loss: 0.0495 - val_accuracy: 0.9680\n",
            "Epoch 74/100\n",
            "71/71 [==============================] - 0s 3ms/step - loss: 0.0338 - accuracy: 0.9871 - val_loss: 0.0490 - val_accuracy: 0.9680\n",
            "Epoch 75/100\n",
            "71/71 [==============================] - 0s 3ms/step - loss: 0.0337 - accuracy: 0.9889 - val_loss: 0.0488 - val_accuracy: 0.9720\n",
            "Epoch 76/100\n",
            "71/71 [==============================] - 0s 3ms/step - loss: 0.0363 - accuracy: 0.9840 - val_loss: 0.0489 - val_accuracy: 0.9680\n",
            "Epoch 77/100\n",
            "71/71 [==============================] - 0s 3ms/step - loss: 0.0339 - accuracy: 0.9871 - val_loss: 0.0490 - val_accuracy: 0.9680\n",
            "Epoch 78/100\n",
            "71/71 [==============================] - 0s 3ms/step - loss: 0.0335 - accuracy: 0.9871 - val_loss: 0.0491 - val_accuracy: 0.9680\n",
            "Epoch 79/100\n",
            "71/71 [==============================] - 0s 3ms/step - loss: 0.0376 - accuracy: 0.9804 - val_loss: 0.0516 - val_accuracy: 0.9800\n",
            "Epoch 80/100\n",
            "71/71 [==============================] - 0s 3ms/step - loss: 0.0340 - accuracy: 0.9862 - val_loss: 0.0523 - val_accuracy: 0.9800\n",
            "Epoch 81/100\n",
            "71/71 [==============================] - 0s 3ms/step - loss: 0.0337 - accuracy: 0.9876 - val_loss: 0.0506 - val_accuracy: 0.9760\n",
            "Epoch 82/100\n",
            "71/71 [==============================] - 0s 3ms/step - loss: 0.0339 - accuracy: 0.9871 - val_loss: 0.0490 - val_accuracy: 0.9680\n",
            "Epoch 83/100\n",
            "71/71 [==============================] - 0s 3ms/step - loss: 0.0335 - accuracy: 0.9858 - val_loss: 0.0493 - val_accuracy: 0.9680\n",
            "Epoch 84/100\n",
            "71/71 [==============================] - 0s 3ms/step - loss: 0.0346 - accuracy: 0.9871 - val_loss: 0.0497 - val_accuracy: 0.9680\n",
            "Epoch 85/100\n",
            "71/71 [==============================] - 0s 3ms/step - loss: 0.0342 - accuracy: 0.9862 - val_loss: 0.0499 - val_accuracy: 0.9760\n",
            "Epoch 86/100\n",
            "71/71 [==============================] - 0s 3ms/step - loss: 0.0337 - accuracy: 0.9862 - val_loss: 0.0494 - val_accuracy: 0.9680\n",
            "Epoch 87/100\n",
            "71/71 [==============================] - 0s 3ms/step - loss: 0.0338 - accuracy: 0.9871 - val_loss: 0.0496 - val_accuracy: 0.9680\n",
            "Epoch 88/100\n",
            "71/71 [==============================] - 0s 3ms/step - loss: 0.0343 - accuracy: 0.9862 - val_loss: 0.0507 - val_accuracy: 0.9760\n",
            "Epoch 89/100\n",
            "71/71 [==============================] - 0s 3ms/step - loss: 0.0339 - accuracy: 0.9884 - val_loss: 0.0503 - val_accuracy: 0.9760\n",
            "Epoch 90/100\n",
            "71/71 [==============================] - 0s 3ms/step - loss: 0.0339 - accuracy: 0.9884 - val_loss: 0.0489 - val_accuracy: 0.9680\n",
            "Epoch 91/100\n",
            "71/71 [==============================] - 0s 3ms/step - loss: 0.0343 - accuracy: 0.9867 - val_loss: 0.0489 - val_accuracy: 0.9720\n",
            "Epoch 92/100\n",
            "71/71 [==============================] - 0s 3ms/step - loss: 0.0356 - accuracy: 0.9844 - val_loss: 0.0492 - val_accuracy: 0.9680\n",
            "Epoch 93/100\n",
            "71/71 [==============================] - 0s 3ms/step - loss: 0.0339 - accuracy: 0.9867 - val_loss: 0.0496 - val_accuracy: 0.9680\n",
            "Epoch 94/100\n",
            "71/71 [==============================] - 0s 3ms/step - loss: 0.0337 - accuracy: 0.9880 - val_loss: 0.0489 - val_accuracy: 0.9720\n",
            "Epoch 95/100\n",
            "71/71 [==============================] - 0s 3ms/step - loss: 0.0340 - accuracy: 0.9858 - val_loss: 0.0496 - val_accuracy: 0.9680\n",
            "Epoch 96/100\n",
            "71/71 [==============================] - 0s 3ms/step - loss: 0.0340 - accuracy: 0.9853 - val_loss: 0.0561 - val_accuracy: 0.9800\n",
            "Epoch 97/100\n",
            "71/71 [==============================] - 0s 3ms/step - loss: 0.0337 - accuracy: 0.9876 - val_loss: 0.0518 - val_accuracy: 0.9800\n",
            "Epoch 98/100\n",
            "71/71 [==============================] - 0s 3ms/step - loss: 0.0339 - accuracy: 0.9871 - val_loss: 0.0511 - val_accuracy: 0.9800\n",
            "Epoch 99/100\n",
            "71/71 [==============================] - 0s 3ms/step - loss: 0.0340 - accuracy: 0.9867 - val_loss: 0.0497 - val_accuracy: 0.9680\n",
            "Epoch 100/100\n",
            "71/71 [==============================] - 0s 3ms/step - loss: 0.0338 - accuracy: 0.9876 - val_loss: 0.0489 - val_accuracy: 0.9720\n"
          ]
        }
      ]
    },
    {
      "cell_type": "markdown",
      "source": [
        "VISUALISING ACCURACY AND LOSS"
      ],
      "metadata": {
        "id": "1-qPMVK42umu"
      }
    },
    {
      "cell_type": "code",
      "source": [
        "\n",
        "plt.plot(history.history['accuracy'])\n",
        "plt.plot(history.history['val_accuracy'])\n",
        "plt.title('model accuracy')\n",
        "plt.ylabel('accuracy')\n",
        "plt.xlabel('epoch')\n",
        "\n",
        "plt.legend(['training data','validation data'], loc ='lower right')"
      ],
      "metadata": {
        "colab": {
          "base_uri": "https://localhost:8080/",
          "height": 312
        },
        "id": "PYtYbuGExnAT",
        "outputId": "fbbd4195-a96a-4823-fe18-abfbd9a1e41b"
      },
      "execution_count": 17,
      "outputs": [
        {
          "output_type": "execute_result",
          "data": {
            "text/plain": [
              "<matplotlib.legend.Legend at 0x7f1e9c658810>"
            ]
          },
          "metadata": {},
          "execution_count": 17
        },
        {
          "output_type": "display_data",
          "data": {
            "text/plain": [
              "<Figure size 432x288 with 1 Axes>"
            ],
            "image/png": "[encoded data removed]"
          },
          "metadata": {
            "needs_background": "light"
          }
        }
      ]
    },
    {
      "cell_type": "markdown",
      "source": [
        "Accuracy of the model on test data"
      ],
      "metadata": {
        "id": "UQsDGRel5Dy8"
      }
    },
    {
      "cell_type": "code",
      "source": [
        "loss, accuracy = model.evaluate(X_test_std,y_test)\n",
        "print(accuracy)"
      ],
      "metadata": {
        "colab": {
          "base_uri": "https://localhost:8080/"
        },
        "id": "6_utzyROxm3S",
        "outputId": "b3f926d2-7e0d-487a-ff85-8ec2dcde5076"
      },
      "execution_count": 18,
      "outputs": [
        {
          "output_type": "stream",
          "name": "stdout",
          "text": [
            "20/20 [==============================] - 0s 2ms/step - loss: 0.0263 - accuracy: 0.9856\n",
            "0.9855999946594238\n"
          ]
        }
      ]
    },
    {
      "cell_type": "code",
      "source": [
        "#predictioon\n",
        "y_pred = model.predict(X_test_std)\n",
        "print(y_pred)"
      ],
      "metadata": {
        "colab": {
          "base_uri": "https://localhost:8080/"
        },
        "id": "r2iPMlT_0odS",
        "outputId": "735cfd33-ef64-45db-c213-d83d5e3ff965"
      },
      "execution_count": 19,
      "outputs": [
        {
          "output_type": "stream",
          "name": "stdout",
          "text": [
            "20/20 [==============================] - 0s 1ms/step\n",
            "[[2.43524028e-06 3.35356385e-01 9.99984860e-01]\n",
            " [1.64359845e-02 9.95345294e-01 1.03384275e-02]\n",
            " [9.99974728e-01 1.01537490e-02 2.92126487e-07]\n",
            " ...\n",
            " [1.35702317e-06 2.77093083e-01 9.99993563e-01]\n",
            " [9.99969482e-01 1.15507152e-02 3.58454741e-07]\n",
            " [2.19423082e-02 9.95053232e-01 7.89369084e-03]]\n"
          ]
        }
      ]
    },
    {
      "cell_type": "code",
      "source": [
        "#converting the prediction probability to class labels\n",
        "y_pred_labels = [np.argmax(i) for i in y_pred]\n",
        "print(y_pred_labels)"
      ],
      "metadata": {
        "colab": {
          "base_uri": "https://localhost:8080/"
        },
        "id": "iEcwdZUe0oax",
        "outputId": "1b3164dd-2226-4d8f-c457-c1e4a303a88f"
      },
      "execution_count": 20,
      "outputs": [
        {
          "output_type": "stream",
          "name": "stdout",
          "text": [
            "[2, 1, 0, 1, 1, 1, 0, 1, 1, 1, 2, 1, 2, 2, 1, 1, 0, 0, 0, 2, 1, 2, 2, 1, 1, 0, 1, 0, 2, 0, 2, 0, 1, 1, 1, 1, 1, 0, 2, 0, 0, 0, 0, 2, 2, 0, 2, 1, 0, 0, 1, 2, 2, 0, 0, 0, 2, 0, 1, 0, 1, 2, 1, 2, 0, 0, 2, 1, 0, 1, 1, 2, 0, 1, 1, 0, 2, 0, 2, 1, 1, 2, 1, 0, 2, 2, 2, 1, 2, 1, 1, 2, 0, 0, 0, 0, 1, 1, 2, 1, 0, 0, 2, 2, 2, 1, 0, 2, 2, 2, 1, 0, 0, 1, 1, 0, 0, 0, 1, 0, 2, 1, 0, 2, 2, 0, 1, 1, 0, 1, 1, 2, 1, 2, 2, 0, 1, 0, 2, 1, 2, 2, 2, 1, 1, 2, 0, 1, 1, 1, 0, 2, 0, 1, 0, 1, 1, 0, 0, 0, 2, 1, 0, 1, 1, 0, 0, 2, 1, 2, 1, 0, 1, 2, 1, 0, 1, 2, 0, 1, 1, 2, 1, 2, 0, 0, 1, 0, 2, 2, 1, 0, 0, 1, 0, 1, 1, 2, 1, 2, 0, 1, 2, 2, 0, 0, 2, 0, 1, 2, 2, 2, 1, 2, 0, 2, 1, 1, 0, 1, 1, 2, 2, 1, 1, 0, 1, 2, 0, 0, 0, 2, 0, 1, 1, 1, 0, 0, 2, 0, 2, 1, 0, 0, 2, 2, 1, 2, 1, 0, 1, 2, 2, 0, 2, 2, 1, 1, 2, 2, 2, 0, 1, 1, 0, 2, 0, 2, 0, 2, 1, 2, 2, 2, 2, 0, 1, 1, 1, 2, 1, 2, 0, 1, 0, 1, 2, 1, 0, 0, 2, 0, 1, 2, 1, 1, 1, 1, 2, 0, 0, 1, 0, 2, 0, 1, 2, 0, 1, 2, 1, 2, 2, 1, 0, 2, 2, 1, 2, 2, 1, 0, 0, 0, 1, 2, 1, 0, 0, 2, 0, 1, 2, 2, 2, 1, 0, 0, 2, 1, 1, 2, 1, 1, 0, 1, 0, 2, 0, 1, 1, 0, 1, 1, 2, 2, 1, 1, 1, 0, 0, 2, 2, 2, 1, 0, 2, 0, 0, 0, 0, 2, 1, 2, 2, 2, 2, 1, 2, 0, 0, 2, 2, 1, 1, 2, 1, 1, 2, 2, 0, 2, 2, 2, 1, 1, 2, 0, 0, 0, 1, 1, 0, 2, 1, 0, 1, 2, 2, 2, 2, 0, 1, 0, 0, 2, 1, 1, 1, 1, 0, 0, 0, 1, 2, 0, 0, 1, 1, 0, 0, 1, 2, 1, 2, 1, 0, 1, 0, 1, 2, 1, 2, 0, 1, 2, 1, 0, 0, 2, 0, 0, 0, 2, 2, 2, 2, 1, 0, 2, 2, 1, 2, 0, 1, 0, 0, 1, 2, 2, 1, 1, 0, 1, 2, 0, 0, 2, 0, 0, 0, 2, 1, 1, 1, 2, 2, 0, 2, 2, 1, 2, 0, 1, 0, 0, 0, 0, 2, 0, 1, 0, 0, 2, 1, 1, 2, 1, 2, 1, 2, 0, 2, 2, 0, 2, 2, 0, 2, 1, 0, 0, 1, 1, 0, 1, 0, 1, 1, 2, 0, 2, 0, 2, 1, 2, 2, 0, 1, 2, 2, 2, 0, 2, 1, 0, 1, 0, 0, 2, 0, 1, 0, 0, 0, 1, 2, 2, 2, 1, 1, 2, 1, 1, 0, 0, 0, 1, 1, 0, 2, 0, 2, 2, 1, 1, 0, 1, 2, 1, 2, 2, 1, 2, 2, 1, 1, 1, 0, 0, 0, 1, 2, 0, 2, 0, 0, 1, 0, 0, 1, 0, 2, 1, 0, 1, 1, 1, 0, 1, 1, 0, 2, 1, 1, 1, 1, 0, 1, 1, 0, 1, 2, 0, 1]\n"
          ]
        }
      ]
    },
    {
      "cell_type": "markdown",
      "source": [
        "BUILDING THE PREDICTIVE SYSTEM"
      ],
      "metadata": {
        "id": "YkGuhLNc8NTE"
      }
    },
    {
      "cell_type": "code",
      "source": [
        "input_temp = (34.5)\n",
        "#converting the input data into a numpyarray \n",
        "input_udder_temp = np.asarray(input_temp)\n",
        "\n",
        "#reshaping the numpy array\n",
        "input_temp_reshaped = input_udder_temp.reshape(1,-1)\n",
        "input_temp_reshaped.shape"
      ],
      "metadata": {
        "colab": {
          "base_uri": "https://localhost:8080/"
        },
        "id": "joxyLPON0oX6",
        "outputId": "6256fa0d-949d-4e75-a162-46aae1d3c1d8"
      },
      "execution_count": 21,
      "outputs": [
        {
          "output_type": "execute_result",
          "data": {
            "text/plain": [
              "(1, 1)"
            ]
          },
          "metadata": {},
          "execution_count": 21
        }
      ]
    },
    {
      "cell_type": "code",
      "source": [
        "#standardizing the data \n",
        "input_temp_std = scaler.transform(input_temp_reshaped)\n",
        "\n"
      ],
      "metadata": {
        "colab": {
          "base_uri": "https://localhost:8080/"
        },
        "id": "Btg3pega0oU9",
        "outputId": "b36c78dc-91ab-4cab-d0c7-6ef696e82cbf"
      },
      "execution_count": 22,
      "outputs": [
        {
          "output_type": "stream",
          "name": "stderr",
          "text": [
            "/usr/local/lib/python3.7/dist-packages/sklearn/base.py:451: UserWarning: X does not have valid feature names, but StandardScaler was fitted with feature names\n",
            "  \"X does not have valid feature names, but\"\n"
          ]
        }
      ]
    },
    {
      "cell_type": "code",
      "source": [
        "prediction = model.predict(input_temp_std)\n",
        "\n",
        "print(prediction)\n",
        "prediction_label = [np.argmax(prediction)]\n",
        "print(prediction_label)\n",
        "if(prediction_label[0]==2):\n",
        "    print(\"clinical Mastitis Detected\")\n",
        "  \n",
        "elif (prediction_label[0]==1):\n",
        "    print (\"subclinical mastitis Detected\")\n",
        "\n",
        "else:\n",
        "    print(\"Healthy animal and no mastitis Detected\")"
      ],
      "metadata": {
        "colab": {
          "base_uri": "https://localhost:8080/"
        },
        "id": "8ut8H8DN0oRq",
        "outputId": "60d5cf44-5139-4f5b-d2d6-320794848a13"
      },
      "execution_count": 23,
      "outputs": [
        {
          "output_type": "stream",
          "name": "stdout",
          "text": [
            "1/1 [==============================] - 0s 17ms/step\n",
            "[[0.0072717  0.99607486 0.02189975]]\n",
            "[1]\n",
            "subclinical mastitis Detected\n"
          ]
        }
      ]
    },
    {
      "cell_type": "markdown",
      "source": [
        "SAVING THE TRAINED MODEL"
      ],
      "metadata": {
        "id": "mygFjALGA7vy"
      }
    },
    {
      "cell_type": "code",
      "source": [
        "import pickle\n",
        "filename = 'NNuddertemperature_model.pkl'\n",
        "pickle.dump(model,open(filename,'wb'))"
      ],
      "metadata": {
        "id": "yhvs_uFE0oOq"
      },
      "execution_count": 24,
      "outputs": []
    },
    {
      "cell_type": "code",
      "source": [],
      "metadata": {
        "id": "A_ACoa2TBRzH"
      },
      "execution_count": 24,
      "outputs": []
    }
  ]
}